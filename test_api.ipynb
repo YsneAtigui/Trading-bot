{
 "cells": [
  {
   "cell_type": "code",
   "execution_count": 1,
   "metadata": {},
   "outputs": [
    {
     "name": "stdout",
     "output_type": "stream",
     "text": [
      "Fast 93691.06866666667  /  Slow: 93599.97464583332\n",
      "Position: 0 / Should Buy: True\n",
      "Symbol: BTC/USD / Side: BUY / Quantity: 0.0001\n",
      "Sleep for 47\n",
      "********************\n",
      "Fast 93691.06866666667  /  Slow: 93599.97464583332\n",
      "Position: 0 / Should Buy: True\n",
      "Symbol: BTC/USD / Side: BUY / Quantity: 0.0001\n",
      "Sleep for 0\n",
      "********************\n",
      "Fast 93691.06866666667  /  Slow: 93599.97464583332\n",
      "Position: 0 / Should Buy: True\n",
      "Symbol: BTC/USD / Side: BUY / Quantity: 0.0001\n",
      "Sleep for 59\n"
     ]
    }
   ],
   "source": [
    "from SMA_Strategy import SMA_Strategy\n",
    "\n",
    "# Set up Alpaca API credentials\n",
    "API_KEY = \"PKAYAGEKG1GMHEO5I3AN\"\n",
    "SECRET_KEY = \"oZh9vVMxCwIoOCXBJrqVYakhmSK7uS8CMuur9o4a\"\n",
    "BASE_URL = \"https://paper-api.alpaca.markets\"  # Use this for paper trading\n",
    "\n",
    "sma = SMA_Strategy(API_KEY,SECRET_KEY,SMA_FAST=12,SMA_SLOW=24)\n",
    "sma.start_crypto_SMA(\"BTC/USD\",0.0001)"
   ]
  },
  {
   "cell_type": "code",
   "execution_count": null,
   "metadata": {},
   "outputs": [],
   "source": []
  }
 ],
 "metadata": {
  "kernelspec": {
   "display_name": "Python 3",
   "language": "python",
   "name": "python3"
  },
  "language_info": {
   "codemirror_mode": {
    "name": "ipython",
    "version": 3
   },
   "file_extension": ".py",
   "mimetype": "text/x-python",
   "name": "python",
   "nbconvert_exporter": "python",
   "pygments_lexer": "ipython3",
   "version": "3.12.8"
  }
 },
 "nbformat": 4,
 "nbformat_minor": 2
}
