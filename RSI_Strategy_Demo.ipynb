{
 "cells": [
  {
   "cell_type": "markdown",
   "id": "ef32f09e",
   "metadata": {},
   "source": [
    "# RSI Strategy Demonstration Notebook\n",
    "This notebook demonstrates the functionality of the `RSI_Strategy` class, which extends the `Strategies` class to implement a trading strategy based on the Relative Strength Index (RSI) and Moving Average Convergence Divergence (MACD) indicators.\n",
    "\n",
    "We will:\n",
    "- Explain the key methods of the `RSI_Strategy` class.\n",
    "- Use the class to fetch stock data, calculate indicators, and execute trading logic.\n",
    "- Visualize the results.\n",
    "\n",
    "### Prerequisites\n",
    "Before running this notebook, ensure you have:\n",
    "- An Alpaca API account.\n",
    "- Installed the necessary libraries (`alpaca-trade-api`, `matplotlib`, `pandas`)."
   ]
  },
  {
   "cell_type": "code",
   "execution_count": null,
   "id": "6c9e43ea",
   "metadata": {},
   "outputs": [],
   "source": [
    "from RSI_Strategy import RSI_Strategy\n",
    "from datetime import datetime, timedelta\n",
    "import matplotlib.pyplot as plt\n",
    "\n",
    "# Replace with your Alpaca API credentials\n",
    "API_KEY = 'your_api_key_here'\n",
    "SECRET_KEY = 'your_secret_key_here'\n"
   ]
  },
  {
   "cell_type": "code",
   "execution_count": null,
   "id": "856afbf5",
   "metadata": {},
   "outputs": [],
   "source": [
    "# Initialize the RSI_Strategy class\n",
    "rsi_strategy = RSI_Strategy(API_KEY, SECRET_KEY)\n",
    "print('RSI_Strategy class initialized successfully.')"
   ]
  },
  {
   "cell_type": "markdown",
   "id": "88f19268",
   "metadata": {},
   "source": [
    "## Relative Strength Index (RSI)\n",
    "The RSI is a momentum oscillator that measures the speed and change of price movements.\n",
    "It ranges from 0 to 100 and is used to identify overbought or oversold conditions."
   ]
  },
  {
   "cell_type": "code",
   "execution_count": null,
   "id": "fa608487",
   "metadata": {},
   "outputs": [],
   "source": [
    "# Example: Calculate RSI on sample data\n",
    "from datetime import timedelta\n",
    "\n",
    "end_date = datetime.now()\n",
    "start_date = end_date - timedelta(days=30)\n",
    "\n",
    "data = rsi_strategy.get_stock_data(\"QQQ\", \"Day\", start_date.strftime('%Y-%m-%d'), end_date.strftime('%Y-%m-%d'))\n",
    "\n",
    "# Calculate RSI\n",
    "data['RSI'] = rsi_strategy.rsi(data['close'])\n",
    "print(data)"
   ]
  },
  {
   "cell_type": "markdown",
   "id": "a8d4175c",
   "metadata": {},
   "source": [
    "## Moving Average Convergence Divergence (MACD)\n",
    "The MACD is a trend-following momentum indicator that shows the relationship between two moving averages of a security’s price."
   ]
  },
  {
   "cell_type": "code",
   "execution_count": null,
   "id": "80a809dc",
   "metadata": {},
   "outputs": [],
   "source": [
    "# Example: Calculate MACD on sample data\n",
    "data['MACD'], data['Signal'] = rsi_strategy.macd(data)\n",
    "print(data[['close', 'MACD', 'Signal']])"
   ]
  },
  {
   "cell_type": "markdown",
   "id": "aacb7060",
   "metadata": {},
   "source": [
    "## Risk Management\n",
    "The `RSI_Strategy` class includes methods to calculate position sizes based on risk tolerance and to determine trade entry and exit points."
   ]
  },
  {
   "cell_type": "code",
   "execution_count": null,
   "id": "2216ffee",
   "metadata": {},
   "outputs": [],
   "source": [
    "# Example: Calculate position size\n",
    "symbol = 'AAPL'  # Replace with a valid stock symbol\n",
    "position_size = rsi_strategy.calculate_position_size(symbol, rsi_strategy.RISK_PERCENTAGE, rsi_strategy.STOP_LOSS_PERCENTAGE)\n",
    "print(f'Calculated position size for {symbol}: {position_size}')"
   ]
  },
  {
   "cell_type": "markdown",
   "id": "e6856edd",
   "metadata": {},
   "source": [
    "## Visualization\n",
    "The `plot_data` method visualizes closing prices, RSI, and MACD with buy and sell signals."
   ]
  },
  {
   "cell_type": "code",
   "execution_count": null,
   "id": "49d87f4f",
   "metadata": {},
   "outputs": [],
   "source": [
    "# Example: Plot sample data\n",
    "rsi_strategy.plot_data(data, symbol='AAPL')"
   ]
  },
  {
   "cell_type": "markdown",
   "id": "97f549f6",
   "metadata": {},
   "source": [
    "## Full Trading Workflow\n",
    "Use the `trade` method to fetch data, calculate indicators, and execute trading logic."
   ]
  },
  {
   "cell_type": "code",
   "execution_count": null,
   "id": "9f5a4e79",
   "metadata": {},
   "outputs": [],
   "source": [
    "# Example: Execute trading logic\n",
    "rsi_strategy.trade(symbol='AAPL', qty=10)"
   ]
  }
 ],
 "metadata": {
  "language_info": {
   "name": "python"
  }
 },
 "nbformat": 4,
 "nbformat_minor": 5
}
