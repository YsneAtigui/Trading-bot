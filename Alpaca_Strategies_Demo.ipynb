{
 "cells": [
  {
   "cell_type": "markdown",
   "id": "414cf681",
   "metadata": {},
   "source": [
    "\n",
    "# Alpaca Trading API Strategies Notebook\n",
    "\n",
    "This notebook demonstrates how to use the Alpaca API for trading and data retrieval. \n",
    "We will explore the functionality of the `Strategies` class and its methods.\n"
   ]
  },
  {
   "cell_type": "markdown",
   "id": "bcb37ad6",
   "metadata": {},
   "source": [
    "\n",
    "## Step 1: Setup\n",
    "\n",
    "First, ensure you have the `alpaca_trade_api` Python package installed. \n",
    "You can install it via pip if it's not already installed:\n",
    "\n",
    "```bash\n",
    "pip install alpaca-trade-api\n",
    "```\n",
    "\n",
    "In this step, we'll configure the Alpaca API keys and initialize the `Strategies` class.\n"
   ]
  },
  {
   "cell_type": "code",
   "execution_count": 12,
   "id": "2770a239",
   "metadata": {},
   "outputs": [],
   "source": [
    "from alpaca_trade_api.rest import REST, TimeFrame\n",
    "from datetime import datetime\n",
    "import pandas as pd\n",
    "\n",
    "# Replace these with your actual Alpaca API keys\n",
    "API_KEY = 'your_api_key_here'\n",
    "SECRET_KEY = 'your_secret_key_here'\n",
    "\n",
    "# Initialize the Strategies class\n",
    "from strategies.Strategies import Strategies  # Assuming the Strategies class is saved as Strategies.py\n",
    "\n",
    "# Instantiate the class\n",
    "strategy = Strategies(API_KEY, SECRET_KEY)\n"
   ]
  },
  {
   "cell_type": "markdown",
   "id": "aab9ca16",
   "metadata": {},
   "source": [
    "\n",
    "## Step 2: Fetching Stock Data\n",
    "\n",
    "The `get_stock_data` method retrieves historical stock data for a given symbol and timeframe.\n",
    "Below, we fetch daily data for a specific stock.\n"
   ]
  },
  {
   "cell_type": "code",
   "execution_count": 13,
   "id": "24f40389",
   "metadata": {},
   "outputs": [
    {
     "data": {
      "text/html": [
       "<div>\n",
       "<style scoped>\n",
       "    .dataframe tbody tr th:only-of-type {\n",
       "        vertical-align: middle;\n",
       "    }\n",
       "\n",
       "    .dataframe tbody tr th {\n",
       "        vertical-align: top;\n",
       "    }\n",
       "\n",
       "    .dataframe thead th {\n",
       "        text-align: right;\n",
       "    }\n",
       "</style>\n",
       "<table border=\"1\" class=\"dataframe\">\n",
       "  <thead>\n",
       "    <tr style=\"text-align: right;\">\n",
       "      <th></th>\n",
       "      <th>close</th>\n",
       "      <th>high</th>\n",
       "      <th>low</th>\n",
       "      <th>trade_count</th>\n",
       "      <th>open</th>\n",
       "      <th>volume</th>\n",
       "      <th>vwap</th>\n",
       "    </tr>\n",
       "    <tr>\n",
       "      <th>timestamp</th>\n",
       "      <th></th>\n",
       "      <th></th>\n",
       "      <th></th>\n",
       "      <th></th>\n",
       "      <th></th>\n",
       "      <th></th>\n",
       "      <th></th>\n",
       "    </tr>\n",
       "  </thead>\n",
       "  <tbody>\n",
       "    <tr>\n",
       "      <th>2024-12-06 05:00:00+00:00</th>\n",
       "      <td>242.690</td>\n",
       "      <td>244.625</td>\n",
       "      <td>242.120</td>\n",
       "      <td>8640</td>\n",
       "      <td>242.960</td>\n",
       "      <td>672959</td>\n",
       "      <td>243.328777</td>\n",
       "    </tr>\n",
       "    <tr>\n",
       "      <th>2024-12-09 05:00:00+00:00</th>\n",
       "      <td>246.890</td>\n",
       "      <td>247.240</td>\n",
       "      <td>241.800</td>\n",
       "      <td>12728</td>\n",
       "      <td>241.865</td>\n",
       "      <td>978692</td>\n",
       "      <td>245.878582</td>\n",
       "    </tr>\n",
       "    <tr>\n",
       "      <th>2024-12-10 05:00:00+00:00</th>\n",
       "      <td>247.810</td>\n",
       "      <td>248.205</td>\n",
       "      <td>245.350</td>\n",
       "      <td>10225</td>\n",
       "      <td>246.910</td>\n",
       "      <td>812772</td>\n",
       "      <td>247.035049</td>\n",
       "    </tr>\n",
       "    <tr>\n",
       "      <th>2024-12-11 05:00:00+00:00</th>\n",
       "      <td>246.455</td>\n",
       "      <td>250.770</td>\n",
       "      <td>246.275</td>\n",
       "      <td>9000</td>\n",
       "      <td>247.960</td>\n",
       "      <td>738775</td>\n",
       "      <td>248.418374</td>\n",
       "    </tr>\n",
       "    <tr>\n",
       "      <th>2024-12-12 05:00:00+00:00</th>\n",
       "      <td>248.020</td>\n",
       "      <td>248.730</td>\n",
       "      <td>245.750</td>\n",
       "      <td>9600</td>\n",
       "      <td>246.930</td>\n",
       "      <td>622093</td>\n",
       "      <td>247.760777</td>\n",
       "    </tr>\n",
       "  </tbody>\n",
       "</table>\n",
       "</div>"
      ],
      "text/plain": [
       "                             close     high      low  trade_count     open  \\\n",
       "timestamp                                                                    \n",
       "2024-12-06 05:00:00+00:00  242.690  244.625  242.120         8640  242.960   \n",
       "2024-12-09 05:00:00+00:00  246.890  247.240  241.800        12728  241.865   \n",
       "2024-12-10 05:00:00+00:00  247.810  248.205  245.350        10225  246.910   \n",
       "2024-12-11 05:00:00+00:00  246.455  250.770  246.275         9000  247.960   \n",
       "2024-12-12 05:00:00+00:00  248.020  248.730  245.750         9600  246.930   \n",
       "\n",
       "                           volume        vwap  \n",
       "timestamp                                      \n",
       "2024-12-06 05:00:00+00:00  672959  243.328777  \n",
       "2024-12-09 05:00:00+00:00  978692  245.878582  \n",
       "2024-12-10 05:00:00+00:00  812772  247.035049  \n",
       "2024-12-11 05:00:00+00:00  738775  248.418374  \n",
       "2024-12-12 05:00:00+00:00  622093  247.760777  "
      ]
     },
     "execution_count": 13,
     "metadata": {},
     "output_type": "execute_result"
    }
   ],
   "source": [
    "# Fetch historical stock data for \"AAPL\" (Apple) over the last month\n",
    "from datetime import timedelta\n",
    "\n",
    "end_date = datetime.now()\n",
    "start_date = end_date - timedelta(days=30)\n",
    "\n",
    "stock_data = strategy.get_stock_data(\"AAPL\", \"Day\", start_date.strftime('%Y-%m-%d'), end_date.strftime('%Y-%m-%d'))\n",
    "\n",
    "# Display the first few rows\n",
    "stock_data.head()\n"
   ]
  },
  {
   "cell_type": "code",
   "execution_count": 14,
   "id": "1967bdd6",
   "metadata": {},
   "outputs": [
    {
     "data": {
      "text/plain": [
       "TradeV2({   'c': ['@'],\n",
       "    'i': 12868,\n",
       "    'p': 243.41,\n",
       "    's': 109,\n",
       "    't': '2025-01-03T20:59:56.806930069Z',\n",
       "    'x': 'V',\n",
       "    'z': 'C'})"
      ]
     },
     "execution_count": 14,
     "metadata": {},
     "output_type": "execute_result"
    }
   ],
   "source": [
    "strategy.api.get_latest_trade(\"AAPL\")"
   ]
  },
  {
   "cell_type": "markdown",
   "id": "c3770a7d",
   "metadata": {},
   "source": [
    "\n",
    "## Step 3: Placing Market Orders\n",
    "\n",
    "The `make_Market_order` method places a market order for a given stock symbol and quantity.\n"
   ]
  },
  {
   "cell_type": "code",
   "execution_count": 15,
   "id": "ab77b163",
   "metadata": {},
   "outputs": [
    {
     "name": "stdout",
     "output_type": "stream",
     "text": [
      "Market order placed successfully!\n"
     ]
    }
   ],
   "source": [
    "# Place a market order to buy 1 share of \"AAPL\"\n",
    "strategy.make_Market_order(\"AAPL\", qty=1, order=\"BUY\")\n",
    "print(\"Market order placed successfully!\")\n"
   ]
  },
  {
   "cell_type": "markdown",
   "id": "467061ad",
   "metadata": {},
   "source": [
    "\n",
    "## Step 4: Checking Positions\n",
    "\n",
    "The `get_position` method checks the quantity of a specific stock currently held in the portfolio.\n"
   ]
  },
  {
   "cell_type": "code",
   "execution_count": 16,
   "id": "e361bb5e",
   "metadata": {},
   "outputs": [
    {
     "name": "stdout",
     "output_type": "stream",
     "text": [
      "Current position for AAPL: 0 shares\n"
     ]
    }
   ],
   "source": [
    "# Check the position for \"AAPL\"\n",
    "position = strategy.get_position(\"AAPL\")\n",
    "print(f\"Current position for AAPL: {position} shares\")\n"
   ]
  },
  {
   "cell_type": "markdown",
   "id": "e9cba60a",
   "metadata": {},
   "source": [
    "\n",
    "## Step 5: Fetching Cryptocurrency Data\n",
    "\n",
    "The `get_crypto_data` method retrieves historical cryptocurrency data.\n"
   ]
  },
  {
   "cell_type": "code",
   "execution_count": 17,
   "id": "4d927d2b",
   "metadata": {},
   "outputs": [
    {
     "data": {
      "text/html": [
       "<div>\n",
       "<style scoped>\n",
       "    .dataframe tbody tr th:only-of-type {\n",
       "        vertical-align: middle;\n",
       "    }\n",
       "\n",
       "    .dataframe tbody tr th {\n",
       "        vertical-align: top;\n",
       "    }\n",
       "\n",
       "    .dataframe thead th {\n",
       "        text-align: right;\n",
       "    }\n",
       "</style>\n",
       "<table border=\"1\" class=\"dataframe\">\n",
       "  <thead>\n",
       "    <tr style=\"text-align: right;\">\n",
       "      <th></th>\n",
       "      <th>close</th>\n",
       "      <th>high</th>\n",
       "      <th>low</th>\n",
       "      <th>trade_count</th>\n",
       "      <th>open</th>\n",
       "      <th>volume</th>\n",
       "      <th>vwap</th>\n",
       "      <th>symbol</th>\n",
       "    </tr>\n",
       "    <tr>\n",
       "      <th>timestamp</th>\n",
       "      <th></th>\n",
       "      <th></th>\n",
       "      <th></th>\n",
       "      <th></th>\n",
       "      <th></th>\n",
       "      <th></th>\n",
       "      <th></th>\n",
       "      <th></th>\n",
       "    </tr>\n",
       "  </thead>\n",
       "  <tbody>\n",
       "    <tr>\n",
       "      <th>2024-12-06 06:00:00+00:00</th>\n",
       "      <td>99286.2500</td>\n",
       "      <td>102081.980</td>\n",
       "      <td>97644.000000</td>\n",
       "      <td>263</td>\n",
       "      <td>97974.6550</td>\n",
       "      <td>4.664878</td>\n",
       "      <td>99792.131147</td>\n",
       "      <td>BTC/USD</td>\n",
       "    </tr>\n",
       "    <tr>\n",
       "      <th>2024-12-07 06:00:00+00:00</th>\n",
       "      <td>99629.9975</td>\n",
       "      <td>100533.200</td>\n",
       "      <td>99228.429000</td>\n",
       "      <td>133</td>\n",
       "      <td>99228.4290</td>\n",
       "      <td>1.038342</td>\n",
       "      <td>99877.317947</td>\n",
       "      <td>BTC/USD</td>\n",
       "    </tr>\n",
       "    <tr>\n",
       "      <th>2024-12-08 06:00:00+00:00</th>\n",
       "      <td>99531.4885</td>\n",
       "      <td>101430.450</td>\n",
       "      <td>98589.387000</td>\n",
       "      <td>155</td>\n",
       "      <td>99584.5850</td>\n",
       "      <td>1.999685</td>\n",
       "      <td>99748.034408</td>\n",
       "      <td>BTC/USD</td>\n",
       "    </tr>\n",
       "    <tr>\n",
       "      <th>2024-12-09 06:00:00+00:00</th>\n",
       "      <td>96987.7920</td>\n",
       "      <td>100434.699</td>\n",
       "      <td>94440.663000</td>\n",
       "      <td>301</td>\n",
       "      <td>99451.9500</td>\n",
       "      <td>4.320389</td>\n",
       "      <td>97467.927075</td>\n",
       "      <td>BTC/USD</td>\n",
       "    </tr>\n",
       "    <tr>\n",
       "      <th>2024-12-10 06:00:00+00:00</th>\n",
       "      <td>97562.4500</td>\n",
       "      <td>98338.325</td>\n",
       "      <td>94353.601985</td>\n",
       "      <td>266</td>\n",
       "      <td>97050.3075</td>\n",
       "      <td>2.240714</td>\n",
       "      <td>96184.302570</td>\n",
       "      <td>BTC/USD</td>\n",
       "    </tr>\n",
       "  </tbody>\n",
       "</table>\n",
       "</div>"
      ],
      "text/plain": [
       "                                close        high           low  trade_count  \\\n",
       "timestamp                                                                      \n",
       "2024-12-06 06:00:00+00:00  99286.2500  102081.980  97644.000000          263   \n",
       "2024-12-07 06:00:00+00:00  99629.9975  100533.200  99228.429000          133   \n",
       "2024-12-08 06:00:00+00:00  99531.4885  101430.450  98589.387000          155   \n",
       "2024-12-09 06:00:00+00:00  96987.7920  100434.699  94440.663000          301   \n",
       "2024-12-10 06:00:00+00:00  97562.4500   98338.325  94353.601985          266   \n",
       "\n",
       "                                 open    volume          vwap   symbol  \n",
       "timestamp                                                               \n",
       "2024-12-06 06:00:00+00:00  97974.6550  4.664878  99792.131147  BTC/USD  \n",
       "2024-12-07 06:00:00+00:00  99228.4290  1.038342  99877.317947  BTC/USD  \n",
       "2024-12-08 06:00:00+00:00  99584.5850  1.999685  99748.034408  BTC/USD  \n",
       "2024-12-09 06:00:00+00:00  99451.9500  4.320389  97467.927075  BTC/USD  \n",
       "2024-12-10 06:00:00+00:00  97050.3075  2.240714  96184.302570  BTC/USD  "
      ]
     },
     "execution_count": 17,
     "metadata": {},
     "output_type": "execute_result"
    }
   ],
   "source": [
    "# Fetch historical crypto data for \"BTC/USD\" (Bitcoin) over the last month\n",
    "crypto_data = strategy.get_crypto_data(\"BTC/USD\", \"Day\", start_date.strftime('%Y-%m-%d'), end_date.strftime('%Y-%m-%d'))\n",
    "\n",
    "# Display the first few rows\n",
    "crypto_data.head()\n"
   ]
  }
 ],
 "metadata": {
  "kernelspec": {
   "display_name": "Python 3",
   "language": "python",
   "name": "python3"
  },
  "language_info": {
   "codemirror_mode": {
    "name": "ipython",
    "version": 3
   },
   "file_extension": ".py",
   "mimetype": "text/x-python",
   "name": "python",
   "nbconvert_exporter": "python",
   "pygments_lexer": "ipython3",
   "version": "3.12.8"
  }
 },
 "nbformat": 4,
 "nbformat_minor": 5
}
