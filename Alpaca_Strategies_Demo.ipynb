{
 "cells": [
  {
   "cell_type": "markdown",
   "id": "414cf681",
   "metadata": {},
   "source": [
    "\n",
    "# Alpaca Trading API Strategies Notebook\n",
    "\n",
    "This notebook demonstrates how to use the Alpaca API for trading and data retrieval. \n",
    "We will explore the functionality of the `Strategies` class and its methods.\n"
   ]
  },
  {
   "cell_type": "markdown",
   "id": "bcb37ad6",
   "metadata": {},
   "source": [
    "\n",
    "## Step 1: Setup\n",
    "\n",
    "First, ensure you have the `alpaca_trade_api` Python package installed. \n",
    "You can install it via pip if it's not already installed:\n",
    "\n",
    "```bash\n",
    "pip install alpaca-trade-api\n",
    "```\n",
    "\n",
    "In this step, we'll configure the Alpaca API keys and initialize the `Strategies` class.\n"
   ]
  },
  {
   "cell_type": "code",
   "execution_count": null,
   "id": "2770a239",
   "metadata": {},
   "outputs": [],
   "source": [
    "from alpaca_trade_api.rest import REST, TimeFrame\n",
    "from datetime import datetime\n",
    "import pandas as pd\n",
    "\n",
    "# Replace these with your actual Alpaca API keys\n",
    "API_KEY = 'PK6K0E5N9RIW8K6SGJYB'\n",
    "SECRET_KEY = 'uXuY1UHah3PE46eyzMHmblZkg4sfjpy9CoyTVGKd'\n",
    "\n",
    "# Initialize the Strategies class\n",
    "from strategies.Strategies import Strategies  # Assuming the Strategies class is saved as Strategies.py\n",
    "\n",
    "# Instantiate the class\n",
    "strategy = Strategies(API_KEY, SECRET_KEY)\n"
   ]
  },
  {
   "cell_type": "markdown",
   "id": "aab9ca16",
   "metadata": {},
   "source": [
    "\n",
    "## Step 2: Fetching Stock Data\n",
    "\n",
    "The `get_stock_data` method retrieves historical stock data for a given symbol and timeframe.\n",
    "Below, we fetch daily data for a specific stock.\n"
   ]
  },
  {
   "cell_type": "code",
   "execution_count": 3,
   "id": "24f40389",
   "metadata": {},
   "outputs": [
    {
     "data": {
      "text/html": [
       "<div>\n",
       "<style scoped>\n",
       "    .dataframe tbody tr th:only-of-type {\n",
       "        vertical-align: middle;\n",
       "    }\n",
       "\n",
       "    .dataframe tbody tr th {\n",
       "        vertical-align: top;\n",
       "    }\n",
       "\n",
       "    .dataframe thead th {\n",
       "        text-align: right;\n",
       "    }\n",
       "</style>\n",
       "<table border=\"1\" class=\"dataframe\">\n",
       "  <thead>\n",
       "    <tr style=\"text-align: right;\">\n",
       "      <th></th>\n",
       "      <th>close</th>\n",
       "      <th>high</th>\n",
       "      <th>low</th>\n",
       "      <th>trade_count</th>\n",
       "      <th>open</th>\n",
       "      <th>volume</th>\n",
       "      <th>vwap</th>\n",
       "    </tr>\n",
       "    <tr>\n",
       "      <th>timestamp</th>\n",
       "      <th></th>\n",
       "      <th></th>\n",
       "      <th></th>\n",
       "      <th></th>\n",
       "      <th></th>\n",
       "      <th></th>\n",
       "      <th></th>\n",
       "    </tr>\n",
       "  </thead>\n",
       "  <tbody>\n",
       "    <tr>\n",
       "      <th>2024-12-10 05:00:00+00:00</th>\n",
       "      <td>247.810</td>\n",
       "      <td>248.205</td>\n",
       "      <td>245.350</td>\n",
       "      <td>10225</td>\n",
       "      <td>246.910</td>\n",
       "      <td>812772</td>\n",
       "      <td>247.035049</td>\n",
       "    </tr>\n",
       "    <tr>\n",
       "      <th>2024-12-11 05:00:00+00:00</th>\n",
       "      <td>246.455</td>\n",
       "      <td>250.770</td>\n",
       "      <td>246.275</td>\n",
       "      <td>9000</td>\n",
       "      <td>247.960</td>\n",
       "      <td>738775</td>\n",
       "      <td>248.418374</td>\n",
       "    </tr>\n",
       "    <tr>\n",
       "      <th>2024-12-12 05:00:00+00:00</th>\n",
       "      <td>248.020</td>\n",
       "      <td>248.730</td>\n",
       "      <td>245.750</td>\n",
       "      <td>9600</td>\n",
       "      <td>246.930</td>\n",
       "      <td>622093</td>\n",
       "      <td>247.760777</td>\n",
       "    </tr>\n",
       "    <tr>\n",
       "      <th>2024-12-13 05:00:00+00:00</th>\n",
       "      <td>248.080</td>\n",
       "      <td>249.245</td>\n",
       "      <td>246.250</td>\n",
       "      <td>7516</td>\n",
       "      <td>247.910</td>\n",
       "      <td>639940</td>\n",
       "      <td>247.478336</td>\n",
       "    </tr>\n",
       "    <tr>\n",
       "      <th>2024-12-16 05:00:00+00:00</th>\n",
       "      <td>251.030</td>\n",
       "      <td>251.355</td>\n",
       "      <td>247.730</td>\n",
       "      <td>10050</td>\n",
       "      <td>247.955</td>\n",
       "      <td>926663</td>\n",
       "      <td>250.142118</td>\n",
       "    </tr>\n",
       "  </tbody>\n",
       "</table>\n",
       "</div>"
      ],
      "text/plain": [
       "                             close     high      low  trade_count     open  \\\n",
       "timestamp                                                                    \n",
       "2024-12-10 05:00:00+00:00  247.810  248.205  245.350        10225  246.910   \n",
       "2024-12-11 05:00:00+00:00  246.455  250.770  246.275         9000  247.960   \n",
       "2024-12-12 05:00:00+00:00  248.020  248.730  245.750         9600  246.930   \n",
       "2024-12-13 05:00:00+00:00  248.080  249.245  246.250         7516  247.910   \n",
       "2024-12-16 05:00:00+00:00  251.030  251.355  247.730        10050  247.955   \n",
       "\n",
       "                           volume        vwap  \n",
       "timestamp                                      \n",
       "2024-12-10 05:00:00+00:00  812772  247.035049  \n",
       "2024-12-11 05:00:00+00:00  738775  248.418374  \n",
       "2024-12-12 05:00:00+00:00  622093  247.760777  \n",
       "2024-12-13 05:00:00+00:00  639940  247.478336  \n",
       "2024-12-16 05:00:00+00:00  926663  250.142118  "
      ]
     },
     "execution_count": 3,
     "metadata": {},
     "output_type": "execute_result"
    }
   ],
   "source": [
    "# Fetch historical stock data for \"AAPL\" (Apple) over the last month\n",
    "from datetime import timedelta\n",
    "\n",
    "end_date = datetime.now()\n",
    "start_date = end_date - timedelta(days=30)\n",
    "\n",
    "stock_data = strategy.get_stock_data(\"AAPL\", \"Day\", start_date.strftime('%Y-%m-%d'), end_date.strftime('%Y-%m-%d'))\n",
    "\n",
    "# Display the first few rows\n",
    "stock_data.head()\n"
   ]
  },
  {
   "cell_type": "code",
   "execution_count": 4,
   "id": "1967bdd6",
   "metadata": {},
   "outputs": [
    {
     "data": {
      "text/plain": [
       "TradeV2({   'c': ['@'],\n",
       "    'i': 12123,\n",
       "    'p': 242.63,\n",
       "    's': 100,\n",
       "    't': '2025-01-08T20:59:59.698404515Z',\n",
       "    'x': 'V',\n",
       "    'z': 'C'})"
      ]
     },
     "execution_count": 4,
     "metadata": {},
     "output_type": "execute_result"
    }
   ],
   "source": [
    "strategy.api.get_latest_trade(\"AAPL\")"
   ]
  },
  {
   "cell_type": "markdown",
   "id": "c3770a7d",
   "metadata": {},
   "source": [
    "\n",
    "## Step 3: Placing Market Orders\n",
    "\n",
    "The `make_Market_order` method places a market order for a given stock symbol and quantity.\n"
   ]
  },
  {
   "cell_type": "code",
   "execution_count": 5,
   "id": "ab77b163",
   "metadata": {},
   "outputs": [
    {
     "name": "stdout",
     "output_type": "stream",
     "text": [
      "Market order placed successfully!\n"
     ]
    }
   ],
   "source": [
    "# Place a market order to buy 1 share of \"AAPL\"\n",
    "strategy.make_Market_order(\"AAPL\", qty=1, order=\"BUY\")\n",
    "print(\"Market order placed successfully!\")\n"
   ]
  },
  {
   "cell_type": "markdown",
   "id": "467061ad",
   "metadata": {},
   "source": [
    "\n",
    "## Step 4: Checking Positions\n",
    "\n",
    "The `get_position` method checks the quantity of a specific stock currently held in the portfolio.\n"
   ]
  },
  {
   "cell_type": "code",
   "execution_count": 6,
   "id": "e361bb5e",
   "metadata": {},
   "outputs": [
    {
     "name": "stdout",
     "output_type": "stream",
     "text": [
      "Current position for AAPL: 0 shares\n"
     ]
    }
   ],
   "source": [
    "# Check the position for \"AAPL\"\n",
    "position = strategy.get_position(\"AAPL\")\n",
    "print(f\"Current position for AAPL: {position} shares\")\n"
   ]
  },
  {
   "cell_type": "markdown",
   "id": "e9cba60a",
   "metadata": {},
   "source": [
    "\n",
    "## Step 5: Fetching Cryptocurrency Data\n",
    "\n",
    "The `get_crypto_data` method retrieves historical cryptocurrency data.\n"
   ]
  },
  {
   "cell_type": "code",
   "execution_count": 7,
   "id": "4d927d2b",
   "metadata": {},
   "outputs": [
    {
     "data": {
      "text/html": [
       "<div>\n",
       "<style scoped>\n",
       "    .dataframe tbody tr th:only-of-type {\n",
       "        vertical-align: middle;\n",
       "    }\n",
       "\n",
       "    .dataframe tbody tr th {\n",
       "        vertical-align: top;\n",
       "    }\n",
       "\n",
       "    .dataframe thead th {\n",
       "        text-align: right;\n",
       "    }\n",
       "</style>\n",
       "<table border=\"1\" class=\"dataframe\">\n",
       "  <thead>\n",
       "    <tr style=\"text-align: right;\">\n",
       "      <th></th>\n",
       "      <th>close</th>\n",
       "      <th>high</th>\n",
       "      <th>low</th>\n",
       "      <th>trade_count</th>\n",
       "      <th>open</th>\n",
       "      <th>volume</th>\n",
       "      <th>vwap</th>\n",
       "      <th>symbol</th>\n",
       "    </tr>\n",
       "    <tr>\n",
       "      <th>timestamp</th>\n",
       "      <th></th>\n",
       "      <th></th>\n",
       "      <th></th>\n",
       "      <th></th>\n",
       "      <th></th>\n",
       "      <th></th>\n",
       "      <th></th>\n",
       "      <th></th>\n",
       "    </tr>\n",
       "  </thead>\n",
       "  <tbody>\n",
       "    <tr>\n",
       "      <th>2024-12-10 06:00:00+00:00</th>\n",
       "      <td>97562.4500</td>\n",
       "      <td>98338.325000</td>\n",
       "      <td>94353.601985</td>\n",
       "      <td>266</td>\n",
       "      <td>97050.3075</td>\n",
       "      <td>2.240714</td>\n",
       "      <td>96184.302570</td>\n",
       "      <td>BTC/USD</td>\n",
       "    </tr>\n",
       "    <tr>\n",
       "      <th>2024-12-11 06:00:00+00:00</th>\n",
       "      <td>100723.9265</td>\n",
       "      <td>102048.132000</td>\n",
       "      <td>97310.100000</td>\n",
       "      <td>277</td>\n",
       "      <td>97512.1550</td>\n",
       "      <td>3.069530</td>\n",
       "      <td>100646.437056</td>\n",
       "      <td>BTC/USD</td>\n",
       "    </tr>\n",
       "    <tr>\n",
       "      <th>2024-12-12 06:00:00+00:00</th>\n",
       "      <td>99967.3400</td>\n",
       "      <td>102549.560000</td>\n",
       "      <td>99288.250000</td>\n",
       "      <td>218</td>\n",
       "      <td>100660.8750</td>\n",
       "      <td>3.782179</td>\n",
       "      <td>101422.906947</td>\n",
       "      <td>BTC/USD</td>\n",
       "    </tr>\n",
       "    <tr>\n",
       "      <th>2024-12-13 06:00:00+00:00</th>\n",
       "      <td>101776.6500</td>\n",
       "      <td>102640.612594</td>\n",
       "      <td>99536.125000</td>\n",
       "      <td>212</td>\n",
       "      <td>99958.6500</td>\n",
       "      <td>1.818374</td>\n",
       "      <td>101429.621234</td>\n",
       "      <td>BTC/USD</td>\n",
       "    </tr>\n",
       "    <tr>\n",
       "      <th>2024-12-14 06:00:00+00:00</th>\n",
       "      <td>102113.6195</td>\n",
       "      <td>102749.990428</td>\n",
       "      <td>100627.159500</td>\n",
       "      <td>189</td>\n",
       "      <td>101769.5385</td>\n",
       "      <td>1.259133</td>\n",
       "      <td>101889.137119</td>\n",
       "      <td>BTC/USD</td>\n",
       "    </tr>\n",
       "  </tbody>\n",
       "</table>\n",
       "</div>"
      ],
      "text/plain": [
       "                                 close           high            low  \\\n",
       "timestamp                                                              \n",
       "2024-12-10 06:00:00+00:00   97562.4500   98338.325000   94353.601985   \n",
       "2024-12-11 06:00:00+00:00  100723.9265  102048.132000   97310.100000   \n",
       "2024-12-12 06:00:00+00:00   99967.3400  102549.560000   99288.250000   \n",
       "2024-12-13 06:00:00+00:00  101776.6500  102640.612594   99536.125000   \n",
       "2024-12-14 06:00:00+00:00  102113.6195  102749.990428  100627.159500   \n",
       "\n",
       "                           trade_count         open    volume           vwap  \\\n",
       "timestamp                                                                      \n",
       "2024-12-10 06:00:00+00:00          266   97050.3075  2.240714   96184.302570   \n",
       "2024-12-11 06:00:00+00:00          277   97512.1550  3.069530  100646.437056   \n",
       "2024-12-12 06:00:00+00:00          218  100660.8750  3.782179  101422.906947   \n",
       "2024-12-13 06:00:00+00:00          212   99958.6500  1.818374  101429.621234   \n",
       "2024-12-14 06:00:00+00:00          189  101769.5385  1.259133  101889.137119   \n",
       "\n",
       "                            symbol  \n",
       "timestamp                           \n",
       "2024-12-10 06:00:00+00:00  BTC/USD  \n",
       "2024-12-11 06:00:00+00:00  BTC/USD  \n",
       "2024-12-12 06:00:00+00:00  BTC/USD  \n",
       "2024-12-13 06:00:00+00:00  BTC/USD  \n",
       "2024-12-14 06:00:00+00:00  BTC/USD  "
      ]
     },
     "execution_count": 7,
     "metadata": {},
     "output_type": "execute_result"
    }
   ],
   "source": [
    "# Fetch historical crypto data for \"BTC/USD\" (Bitcoin) over the last month\n",
    "crypto_data = strategy.get_crypto_data(\"BTC/USD\", \"Day\", start_date.strftime('%Y-%m-%d'), end_date.strftime('%Y-%m-%d'))\n",
    "\n",
    "# Display the first few rows\n",
    "crypto_data.head()\n"
   ]
  }
 ],
 "metadata": {
  "kernelspec": {
   "display_name": "venv",
   "language": "python",
   "name": "python3"
  },
  "language_info": {
   "codemirror_mode": {
    "name": "ipython",
    "version": 3
   },
   "file_extension": ".py",
   "mimetype": "text/x-python",
   "name": "python",
   "nbconvert_exporter": "python",
   "pygments_lexer": "ipython3",
   "version": "3.12.8"
  }
 },
 "nbformat": 4,
 "nbformat_minor": 5
}
