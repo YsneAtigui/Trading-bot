{
 "cells": [
  {
   "cell_type": "markdown",
   "id": "414cf681",
   "metadata": {},
   "source": [
    "\n",
    "# Alpaca Trading API Strategies Notebook\n",
    "\n",
    "This notebook demonstrates how to use the Alpaca API for trading and data retrieval. \n",
    "We will explore the functionality of the `Strategies` class and its methods.\n"
   ]
  },
  {
   "cell_type": "markdown",
   "id": "bcb37ad6",
   "metadata": {},
   "source": [
    "\n",
    "## Step 1: Setup\n",
    "\n",
    "First, ensure you have the `alpaca_trade_api` Python package installed. \n",
    "You can install it via pip if it's not already installed:\n",
    "\n",
    "```bash\n",
    "pip install alpaca-trade-api\n",
    "```\n",
    "\n",
    "In this step, we'll configure the Alpaca API keys and initialize the `Strategies` class.\n"
   ]
  },
  {
   "cell_type": "code",
   "execution_count": 2,
   "id": "2770a239",
   "metadata": {},
   "outputs": [
    {
     "ename": "ModuleNotFoundError",
     "evalue": "No module named 'Strategies'",
     "output_type": "error",
     "traceback": [
      "\u001b[1;31m---------------------------------------------------------------------------\u001b[0m",
      "\u001b[1;31mModuleNotFoundError\u001b[0m                       Traceback (most recent call last)",
      "Cell \u001b[1;32mIn[2], line 10\u001b[0m\n\u001b[0;32m      7\u001b[0m SECRET_KEY \u001b[38;5;241m=\u001b[39m \u001b[38;5;124m\"\u001b[39m\u001b[38;5;124moZh9vVMxCwIoOCXBJrqVYakhmSK7uS8CMuur9o4a\u001b[39m\u001b[38;5;124m\"\u001b[39m\n\u001b[0;32m      9\u001b[0m \u001b[38;5;66;03m# Initialize the Strategies class\u001b[39;00m\n\u001b[1;32m---> 10\u001b[0m \u001b[38;5;28;01mfrom\u001b[39;00m \u001b[38;5;21;01mStrategies\u001b[39;00m \u001b[38;5;28;01mimport\u001b[39;00m Strategies  \u001b[38;5;66;03m# Assuming the Strategies class is saved as Strategies.py\u001b[39;00m\n\u001b[0;32m     12\u001b[0m \u001b[38;5;66;03m# Instantiate the class\u001b[39;00m\n\u001b[0;32m     13\u001b[0m strategy \u001b[38;5;241m=\u001b[39m Strategies(API_KEY, SECRET_KEY)\n",
      "\u001b[1;31mModuleNotFoundError\u001b[0m: No module named 'Strategies'"
     ]
    }
   ],
   "source": [
    "\n",
    "from alpaca_trade_api.rest import REST, TimeFrame\n",
    "from datetime import datetime\n",
    "import pandas as pd\n",
    "\n",
    "# Replace these with your actual Alpaca API keys\n",
    "API_KEY = \"PKAYAGEKG1GMHEO5I3AN\"\n",
    "SECRET_KEY = \"oZh9vVMxCwIoOCXBJrqVYakhmSK7uS8CMuur9o4a\"\n",
    "\n",
    "# Initialize the Strategies class\n",
    "from Strategies import Strategies  # Assuming the Strategies class is saved as Strategies.py\n",
    "\n",
    "# Instantiate the class\n",
    "strategy = Strategies(API_KEY, SECRET_KEY)\n"
   ]
  },
  {
   "cell_type": "markdown",
   "id": "aab9ca16",
   "metadata": {},
   "source": [
    "\n",
    "## Step 2: Fetching Stock Data\n",
    "\n",
    "The `get_stock_data` method retrieves historical stock data for a given symbol and timeframe.\n",
    "Below, we fetch daily data for a specific stock.\n"
   ]
  },
  {
   "cell_type": "code",
   "execution_count": null,
   "id": "24f40389",
   "metadata": {},
   "outputs": [],
   "source": [
    "\n",
    "# Fetch historical stock data for \"AAPL\" (Apple) over the last month\n",
    "from datetime import timedelta\n",
    "\n",
    "end_date = datetime.now()\n",
    "start_date = end_date - timedelta(days=30)\n",
    "\n",
    "stock_data = strategy.get_stock_data(\"AAPL\", \"Day\", start_date.strftime('%Y-%m-%d'), end_date.strftime('%Y-%m-%d'))\n",
    "\n",
    "# Display the first few rows\n",
    "stock_data.head()\n"
   ]
  },
  {
   "cell_type": "markdown",
   "id": "c3770a7d",
   "metadata": {},
   "source": [
    "\n",
    "## Step 3: Placing Market Orders\n",
    "\n",
    "The `make_Market_order` method places a market order for a given stock symbol and quantity.\n"
   ]
  },
  {
   "cell_type": "code",
   "execution_count": null,
   "id": "ab77b163",
   "metadata": {},
   "outputs": [],
   "source": [
    "\n",
    "# Place a market order to buy 1 share of \"AAPL\"\n",
    "strategy.make_Market_order(\"AAPL\", qty=1, order=\"BUY\")\n",
    "print(\"Market order placed successfully!\")\n"
   ]
  },
  {
   "cell_type": "markdown",
   "id": "467061ad",
   "metadata": {},
   "source": [
    "\n",
    "## Step 4: Checking Positions\n",
    "\n",
    "The `get_position` method checks the quantity of a specific stock currently held in the portfolio.\n"
   ]
  },
  {
   "cell_type": "code",
   "execution_count": null,
   "id": "e361bb5e",
   "metadata": {},
   "outputs": [],
   "source": [
    "\n",
    "# Check the position for \"AAPL\"\n",
    "position = strategy.get_position(\"AAPL\")\n",
    "print(f\"Current position for AAPL: {position} shares\")\n"
   ]
  },
  {
   "cell_type": "markdown",
   "id": "e9cba60a",
   "metadata": {},
   "source": [
    "\n",
    "## Step 5: Fetching Cryptocurrency Data\n",
    "\n",
    "The `get_crypto_data` method retrieves historical cryptocurrency data.\n"
   ]
  },
  {
   "cell_type": "code",
   "execution_count": null,
   "id": "4d927d2b",
   "metadata": {},
   "outputs": [],
   "source": [
    "\n",
    "# Fetch historical crypto data for \"BTC/USD\" (Bitcoin) over the last month\n",
    "crypto_data = strategy.get_crypto_data(\"BTC/USD\", \"Day\", start_date.strftime('%Y-%m-%d'), end_date.strftime('%Y-%m-%d'))\n",
    "\n",
    "# Display the first few rows\n",
    "crypto_data.head()\n"
   ]
  }
 ],
 "metadata": {
  "kernelspec": {
   "display_name": "Python 3",
   "language": "python",
   "name": "python3"
  },
  "language_info": {
   "codemirror_mode": {
    "name": "ipython",
    "version": 3
   },
   "file_extension": ".py",
   "mimetype": "text/x-python",
   "name": "python",
   "nbconvert_exporter": "python",
   "pygments_lexer": "ipython3",
   "version": "3.12.8"
  }
 },
 "nbformat": 4,
 "nbformat_minor": 5
}
